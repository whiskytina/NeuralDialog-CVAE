{
 "cells": [
  {
   "cell_type": "code",
   "execution_count": 6,
   "metadata": {
    "collapsed": true
   },
   "outputs": [],
   "source": [
    "# from multiprocessing import Pool, Manager\n",
    "from tqdm import tqdm\n",
    "\n",
    "class NgramModel():\n",
    "    def __init__(self):\n",
    "        pass\n",
    "    \n",
    "    def load_data(self, train_data_file):\n",
    "        self.train_data = []\n",
    "        with open(train_data_file, 'r') as fin:\n",
    "            for line in fin:\n",
    "                self.train_data.append([\"<s>\"] + line.strip().split(\" \") + [\"</s>\"])\n",
    "        \n",
    "                \n",
    "    def unsmoothed_n_grams(self, n, num_thread=4):\n",
    "        word_count = {}\n",
    "        \n",
    "        def ngrams(lst_words, n):\n",
    "            if len(lst_words) < n:\n",
    "                return \n",
    "            for i in range(len(lst_words) - n + 1):\n",
    "                key = \" \".join(lst_words[i:i+n])\n",
    "                word_count.setdefault(key, 0)\n",
    "                word_count[key] += 1\n",
    "                \n",
    "        for lst_words in tqdm(self.train_data):\n",
    "            ngrams(lst_words, n)\n",
    "        \n",
    "        return word_count"
   ]
  },
  {
   "cell_type": "code",
   "execution_count": 7,
   "metadata": {},
   "outputs": [
    {
     "name": "stderr",
     "output_type": "stream",
     "text": [
      "100%|██████████| 3435564/3435564 [00:33<00:00, 103897.11it/s]\n",
      "100%|██████████| 3435564/3435564 [00:40<00:00, 84796.83it/s]\n"
     ]
    }
   ],
   "source": [
    "model = NgramModel()\n",
    "\n",
    "model.load_data(\"../../data/comments.txt\")\n",
    "\n",
    "unigram = model.unsmoothed_n_grams(1)\n",
    "bigram = model.unsmoothed_n_grams(2)"
   ]
  },
  {
   "cell_type": "code",
   "execution_count": 9,
   "metadata": {},
   "outputs": [
    {
     "data": {
      "text/plain": [
       "8696"
      ]
     },
     "execution_count": 9,
     "metadata": {},
     "output_type": "execute_result"
    }
   ],
   "source": [
    "len(unigram.keys())"
   ]
  },
  {
   "cell_type": "code",
   "execution_count": null,
   "metadata": {
    "collapsed": true
   },
   "outputs": [],
   "source": []
  }
 ],
 "metadata": {
  "kernelspec": {
   "display_name": "Python 2",
   "language": "python",
   "name": "python2"
  },
  "language_info": {
   "codemirror_mode": {
    "name": "ipython",
    "version": 2
   },
   "file_extension": ".py",
   "mimetype": "text/x-python",
   "name": "python",
   "nbconvert_exporter": "python",
   "pygments_lexer": "ipython2",
   "version": "2.7.13"
  }
 },
 "nbformat": 4,
 "nbformat_minor": 2
}
